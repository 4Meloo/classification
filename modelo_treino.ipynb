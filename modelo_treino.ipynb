{
 "cells": [
  {
   "cell_type": "code",
   "execution_count": 73,
   "metadata": {},
   "outputs": [],
   "source": [
    "import pandas as pd\n",
    "from sklearn.neighbors import KNeighborsClassifier\n",
    "from sklearn.metrics import classification_report\n",
    "from sklearn.svm import SVC\n",
    "from sklearn.ensemble import RandomForestClassifier\n",
    "from sklearn.decomposition import PCA\n",
    "import seaborn as sns\n",
    "from sklearn.manifold import TSNE"
   ]
  },
  {
   "cell_type": "code",
   "execution_count": 33,
   "metadata": {},
   "outputs": [],
   "source": [
    "data_teste = pd.read_csv(\"data/teste_normalized.csv\")\n",
    "data_treino = pd.read_csv(\"data/train_normalized.csv\")"
   ]
  },
  {
   "cell_type": "markdown",
   "metadata": {},
   "source": [
    "### SEPARING THE DATA"
   ]
  },
  {
   "cell_type": "code",
   "execution_count": 3,
   "metadata": {},
   "outputs": [
    {
     "name": "stdout",
     "output_type": "stream",
     "text": [
      "(2620, 9)\n"
     ]
    },
    {
     "data": {
      "text/plain": [
       "(2620,)"
      ]
     },
     "execution_count": 3,
     "metadata": {},
     "output_type": "execute_result"
    }
   ],
   "source": [
    "X_train= data_treino.drop(columns=\"label\")\n",
    "y_train = data_treino.label\n",
    "\n",
    "print(X_train.shape)\n",
    "y_train.shape"
   ]
  },
  {
   "cell_type": "code",
   "execution_count": 4,
   "metadata": {},
   "outputs": [
    {
     "name": "stdout",
     "output_type": "stream",
     "text": [
      "(656, 9)\n"
     ]
    },
    {
     "data": {
      "text/plain": [
       "(656,)"
      ]
     },
     "execution_count": 4,
     "metadata": {},
     "output_type": "execute_result"
    }
   ],
   "source": [
    "X_test = data_teste.drop(columns=\"label\")\n",
    "y_test = data_teste.label\n",
    "print(X_test.shape)\n",
    "y_test.shape"
   ]
  },
  {
   "cell_type": "markdown",
   "metadata": {},
   "source": [
    "## PCA \n"
   ]
  },
  {
   "cell_type": "code",
   "execution_count": 72,
   "metadata": {},
   "outputs": [
    {
     "name": "stdout",
     "output_type": "stream",
     "text": [
      "variancia: [0.99999]\n"
     ]
    }
   ],
   "source": [
    "pca = PCA(n_components= 1)\n",
    "pca.fit(X = X_train, y = y_train)\n",
    "print(\"variancia:\",np.round(pca.explained_variance_ratio_,5))\n",
    "X_train_pca = pca.transform(X = X_train)\n",
    "X_test_pca = pca.transform(X = X_test)\n"
   ]
  },
  {
   "cell_type": "markdown",
   "metadata": {},
   "source": [
    "### \n",
    "Para definir o n_components deve-se observar os resultados da variancia e somar os primeiro valores ate compor 95% se tiver poucos atributos e se tiver muitos atributos deve se buscar 98%"
   ]
  },
  {
   "cell_type": "code",
   "execution_count": 64,
   "metadata": {},
   "outputs": [
    {
     "data": {
      "text/html": [
       "<div>\n",
       "<style scoped>\n",
       "    .dataframe tbody tr th:only-of-type {\n",
       "        vertical-align: middle;\n",
       "    }\n",
       "\n",
       "    .dataframe tbody tr th {\n",
       "        vertical-align: top;\n",
       "    }\n",
       "\n",
       "    .dataframe thead th {\n",
       "        text-align: right;\n",
       "    }\n",
       "</style>\n",
       "<table border=\"1\" class=\"dataframe\">\n",
       "  <thead>\n",
       "    <tr style=\"text-align: right;\">\n",
       "      <th></th>\n",
       "      <th>PCA_1</th>\n",
       "      <th>label</th>\n",
       "    </tr>\n",
       "  </thead>\n",
       "  <tbody>\n",
       "    <tr>\n",
       "      <th>0</th>\n",
       "      <td>-1309.500015</td>\n",
       "      <td>0</td>\n",
       "    </tr>\n",
       "    <tr>\n",
       "      <th>1</th>\n",
       "      <td>-1308.499933</td>\n",
       "      <td>0</td>\n",
       "    </tr>\n",
       "    <tr>\n",
       "      <th>2</th>\n",
       "      <td>-1307.500033</td>\n",
       "      <td>0</td>\n",
       "    </tr>\n",
       "    <tr>\n",
       "      <th>3</th>\n",
       "      <td>-1306.500072</td>\n",
       "      <td>0</td>\n",
       "    </tr>\n",
       "    <tr>\n",
       "      <th>4</th>\n",
       "      <td>-1305.500050</td>\n",
       "      <td>0</td>\n",
       "    </tr>\n",
       "    <tr>\n",
       "      <th>...</th>\n",
       "      <td>...</td>\n",
       "      <td>...</td>\n",
       "    </tr>\n",
       "    <tr>\n",
       "      <th>2615</th>\n",
       "      <td>1305.499906</td>\n",
       "      <td>1</td>\n",
       "    </tr>\n",
       "    <tr>\n",
       "      <th>2616</th>\n",
       "      <td>1306.500015</td>\n",
       "      <td>1</td>\n",
       "    </tr>\n",
       "    <tr>\n",
       "      <th>2617</th>\n",
       "      <td>1307.500101</td>\n",
       "      <td>0</td>\n",
       "    </tr>\n",
       "    <tr>\n",
       "      <th>2618</th>\n",
       "      <td>1308.499954</td>\n",
       "      <td>0</td>\n",
       "    </tr>\n",
       "    <tr>\n",
       "      <th>2619</th>\n",
       "      <td>1309.500054</td>\n",
       "      <td>1</td>\n",
       "    </tr>\n",
       "  </tbody>\n",
       "</table>\n",
       "<p>2620 rows × 2 columns</p>\n",
       "</div>"
      ],
      "text/plain": [
       "            PCA_1  label\n",
       "0    -1309.500015      0\n",
       "1    -1308.499933      0\n",
       "2    -1307.500033      0\n",
       "3    -1306.500072      0\n",
       "4    -1305.500050      0\n",
       "...           ...    ...\n",
       "2615  1305.499906      1\n",
       "2616  1306.500015      1\n",
       "2617  1307.500101      0\n",
       "2618  1308.499954      0\n",
       "2619  1309.500054      1\n",
       "\n",
       "[2620 rows x 2 columns]"
      ]
     },
     "execution_count": 64,
     "metadata": {},
     "output_type": "execute_result"
    }
   ],
   "source": [
    "data_train_pca = pd.DataFrame(X_train_pca, columns=[\"PCA_1\"])\n",
    "data_train_pca['label'] = y_train.to_list()\n",
    "data_train_pca"
   ]
  },
  {
   "cell_type": "code",
   "execution_count": 65,
   "metadata": {},
   "outputs": [
    {
     "data": {
      "text/plain": [
       "<seaborn.axisgrid.PairGrid at 0x7fcc14f76080>"
      ]
     },
     "execution_count": 65,
     "metadata": {},
     "output_type": "execute_result"
    },
    {
     "data": {
      "image/png": "[encoded data removed]",
      "text/plain": [
       "<Figure size 294.861x250 with 2 Axes>"
      ]
     },
     "metadata": {},
     "output_type": "display_data"
    }
   ],
   "source": [
    "sns.pairplot(data = data_train_pca,hue= \"label\")"
   ]
  },
  {
   "cell_type": "markdown",
   "metadata": {},
   "source": [
    "### TSNE "
   ]
  },
  {
   "cell_type": "code",
   "execution_count": 87,
   "metadata": {},
   "outputs": [
    {
     "data": {
      "text/html": [
       "<div>\n",
       "<style scoped>\n",
       "    .dataframe tbody tr th:only-of-type {\n",
       "        vertical-align: middle;\n",
       "    }\n",
       "\n",
       "    .dataframe tbody tr th {\n",
       "        vertical-align: top;\n",
       "    }\n",
       "\n",
       "    .dataframe thead th {\n",
       "        text-align: right;\n",
       "    }\n",
       "</style>\n",
       "<table border=\"1\" class=\"dataframe\">\n",
       "  <thead>\n",
       "    <tr style=\"text-align: right;\">\n",
       "      <th></th>\n",
       "      <th>Unnamed: 0</th>\n",
       "      <th>ph</th>\n",
       "      <th>Hardness</th>\n",
       "      <th>Solids</th>\n",
       "      <th>Chloramines</th>\n",
       "      <th>Conductivity</th>\n",
       "      <th>Organic_carbon</th>\n",
       "      <th>Trihalomethanes</th>\n",
       "      <th>Turbidity</th>\n",
       "    </tr>\n",
       "  </thead>\n",
       "  <tbody>\n",
       "    <tr>\n",
       "      <th>0</th>\n",
       "      <td>0</td>\n",
       "      <td>-0.317377</td>\n",
       "      <td>0.202046</td>\n",
       "      <td>-0.554634</td>\n",
       "      <td>-0.666527</td>\n",
       "      <td>-0.199296</td>\n",
       "      <td>0.506221</td>\n",
       "      <td>-0.084315</td>\n",
       "      <td>-1.341104</td>\n",
       "    </tr>\n",
       "    <tr>\n",
       "      <th>1</th>\n",
       "      <td>1</td>\n",
       "      <td>-0.275606</td>\n",
       "      <td>-0.080066</td>\n",
       "      <td>1.368736</td>\n",
       "      <td>1.743813</td>\n",
       "      <td>0.882586</td>\n",
       "      <td>-1.654207</td>\n",
       "      <td>0.019075</td>\n",
       "      <td>0.090829</td>\n",
       "    </tr>\n",
       "    <tr>\n",
       "      <th>2</th>\n",
       "      <td>2</td>\n",
       "      <td>-0.172103</td>\n",
       "      <td>0.283021</td>\n",
       "      <td>-0.423990</td>\n",
       "      <td>-0.248791</td>\n",
       "      <td>0.838486</td>\n",
       "      <td>-0.134860</td>\n",
       "      <td>0.274997</td>\n",
       "      <td>1.274183</td>\n",
       "    </tr>\n",
       "    <tr>\n",
       "      <th>3</th>\n",
       "      <td>3</td>\n",
       "      <td>-0.004751</td>\n",
       "      <td>-0.397879</td>\n",
       "      <td>-1.063086</td>\n",
       "      <td>1.681607</td>\n",
       "      <td>0.690172</td>\n",
       "      <td>-0.286851</td>\n",
       "      <td>-1.230971</td>\n",
       "      <td>-0.923584</td>\n",
       "    </tr>\n",
       "    <tr>\n",
       "      <th>4</th>\n",
       "      <td>4</td>\n",
       "      <td>-0.465638</td>\n",
       "      <td>-0.416413</td>\n",
       "      <td>-0.477227</td>\n",
       "      <td>0.223520</td>\n",
       "      <td>-0.340518</td>\n",
       "      <td>0.928554</td>\n",
       "      <td>-0.144336</td>\n",
       "      <td>0.788260</td>\n",
       "    </tr>\n",
       "    <tr>\n",
       "      <th>...</th>\n",
       "      <td>...</td>\n",
       "      <td>...</td>\n",
       "      <td>...</td>\n",
       "      <td>...</td>\n",
       "      <td>...</td>\n",
       "      <td>...</td>\n",
       "      <td>...</td>\n",
       "      <td>...</td>\n",
       "      <td>...</td>\n",
       "    </tr>\n",
       "    <tr>\n",
       "      <th>2615</th>\n",
       "      <td>2615</td>\n",
       "      <td>-1.983229</td>\n",
       "      <td>0.366111</td>\n",
       "      <td>-0.029081</td>\n",
       "      <td>-0.794690</td>\n",
       "      <td>-1.994638</td>\n",
       "      <td>-0.918494</td>\n",
       "      <td>-1.241751</td>\n",
       "      <td>0.812639</td>\n",
       "    </tr>\n",
       "    <tr>\n",
       "      <th>2616</th>\n",
       "      <td>2616</td>\n",
       "      <td>0.482890</td>\n",
       "      <td>-0.966755</td>\n",
       "      <td>0.389467</td>\n",
       "      <td>0.478776</td>\n",
       "      <td>-0.344453</td>\n",
       "      <td>0.318363</td>\n",
       "      <td>0.002472</td>\n",
       "      <td>0.333916</td>\n",
       "    </tr>\n",
       "    <tr>\n",
       "      <th>2617</th>\n",
       "      <td>2617</td>\n",
       "      <td>-0.312761</td>\n",
       "      <td>-0.297420</td>\n",
       "      <td>1.004419</td>\n",
       "      <td>0.375135</td>\n",
       "      <td>-1.177037</td>\n",
       "      <td>-0.132780</td>\n",
       "      <td>1.287286</td>\n",
       "      <td>-0.602449</td>\n",
       "    </tr>\n",
       "    <tr>\n",
       "      <th>2618</th>\n",
       "      <td>2618</td>\n",
       "      <td>1.159353</td>\n",
       "      <td>0.662635</td>\n",
       "      <td>-0.665997</td>\n",
       "      <td>0.177994</td>\n",
       "      <td>-0.460730</td>\n",
       "      <td>0.640193</td>\n",
       "      <td>-1.215345</td>\n",
       "      <td>0.403374</td>\n",
       "    </tr>\n",
       "    <tr>\n",
       "      <th>2619</th>\n",
       "      <td>2619</td>\n",
       "      <td>-0.266405</td>\n",
       "      <td>0.056408</td>\n",
       "      <td>1.427454</td>\n",
       "      <td>-0.531743</td>\n",
       "      <td>0.055610</td>\n",
       "      <td>-0.631827</td>\n",
       "      <td>0.002472</td>\n",
       "      <td>-0.258947</td>\n",
       "    </tr>\n",
       "  </tbody>\n",
       "</table>\n",
       "<p>2620 rows × 9 columns</p>\n",
       "</div>"
      ],
      "text/plain": [
       "      Unnamed: 0        ph  Hardness    Solids  Chloramines  Conductivity  \\\n",
       "0              0 -0.317377  0.202046 -0.554634    -0.666527     -0.199296   \n",
       "1              1 -0.275606 -0.080066  1.368736     1.743813      0.882586   \n",
       "2              2 -0.172103  0.283021 -0.423990    -0.248791      0.838486   \n",
       "3              3 -0.004751 -0.397879 -1.063086     1.681607      0.690172   \n",
       "4              4 -0.465638 -0.416413 -0.477227     0.223520     -0.340518   \n",
       "...          ...       ...       ...       ...          ...           ...   \n",
       "2615        2615 -1.983229  0.366111 -0.029081    -0.794690     -1.994638   \n",
       "2616        2616  0.482890 -0.966755  0.389467     0.478776     -0.344453   \n",
       "2617        2617 -0.312761 -0.297420  1.004419     0.375135     -1.177037   \n",
       "2618        2618  1.159353  0.662635 -0.665997     0.177994     -0.460730   \n",
       "2619        2619 -0.266405  0.056408  1.427454    -0.531743      0.055610   \n",
       "\n",
       "      Organic_carbon  Trihalomethanes  Turbidity  \n",
       "0           0.506221        -0.084315  -1.341104  \n",
       "1          -1.654207         0.019075   0.090829  \n",
       "2          -0.134860         0.274997   1.274183  \n",
       "3          -0.286851        -1.230971  -0.923584  \n",
       "4           0.928554        -0.144336   0.788260  \n",
       "...              ...              ...        ...  \n",
       "2615       -0.918494        -1.241751   0.812639  \n",
       "2616        0.318363         0.002472   0.333916  \n",
       "2617       -0.132780         1.287286  -0.602449  \n",
       "2618        0.640193        -1.215345   0.403374  \n",
       "2619       -0.631827         0.002472  -0.258947  \n",
       "\n",
       "[2620 rows x 9 columns]"
      ]
     },
     "execution_count": 87,
     "metadata": {},
     "output_type": "execute_result"
    }
   ],
   "source": [
    "X_train"
   ]
  },
  {
   "cell_type": "code",
   "execution_count": 79,
   "metadata": {},
   "outputs": [
    {
     "data": {
      "text/html": [
       "<div>\n",
       "<style scoped>\n",
       "    .dataframe tbody tr th:only-of-type {\n",
       "        vertical-align: middle;\n",
       "    }\n",
       "\n",
       "    .dataframe tbody tr th {\n",
       "        vertical-align: top;\n",
       "    }\n",
       "\n",
       "    .dataframe thead th {\n",
       "        text-align: right;\n",
       "    }\n",
       "</style>\n",
       "<table border=\"1\" class=\"dataframe\">\n",
       "  <thead>\n",
       "    <tr style=\"text-align: right;\">\n",
       "      <th></th>\n",
       "      <th>Unnamed: 0</th>\n",
       "      <th>ph</th>\n",
       "      <th>Hardness</th>\n",
       "      <th>Solids</th>\n",
       "      <th>Chloramines</th>\n",
       "      <th>Conductivity</th>\n",
       "      <th>Organic_carbon</th>\n",
       "      <th>Trihalomethanes</th>\n",
       "      <th>Turbidity</th>\n",
       "    </tr>\n",
       "  </thead>\n",
       "  <tbody>\n",
       "    <tr>\n",
       "      <th>0</th>\n",
       "      <td>0</td>\n",
       "      <td>-0.317377</td>\n",
       "      <td>0.202046</td>\n",
       "      <td>-0.554634</td>\n",
       "      <td>-0.666527</td>\n",
       "      <td>-0.199296</td>\n",
       "      <td>0.506221</td>\n",
       "      <td>-0.084315</td>\n",
       "      <td>-1.341104</td>\n",
       "    </tr>\n",
       "    <tr>\n",
       "      <th>1</th>\n",
       "      <td>1</td>\n",
       "      <td>-0.275606</td>\n",
       "      <td>-0.080066</td>\n",
       "      <td>1.368736</td>\n",
       "      <td>1.743813</td>\n",
       "      <td>0.882586</td>\n",
       "      <td>-1.654207</td>\n",
       "      <td>0.019075</td>\n",
       "      <td>0.090829</td>\n",
       "    </tr>\n",
       "    <tr>\n",
       "      <th>2</th>\n",
       "      <td>2</td>\n",
       "      <td>-0.172103</td>\n",
       "      <td>0.283021</td>\n",
       "      <td>-0.423990</td>\n",
       "      <td>-0.248791</td>\n",
       "      <td>0.838486</td>\n",
       "      <td>-0.134860</td>\n",
       "      <td>0.274997</td>\n",
       "      <td>1.274183</td>\n",
       "    </tr>\n",
       "    <tr>\n",
       "      <th>3</th>\n",
       "      <td>3</td>\n",
       "      <td>-0.004751</td>\n",
       "      <td>-0.397879</td>\n",
       "      <td>-1.063086</td>\n",
       "      <td>1.681607</td>\n",
       "      <td>0.690172</td>\n",
       "      <td>-0.286851</td>\n",
       "      <td>-1.230971</td>\n",
       "      <td>-0.923584</td>\n",
       "    </tr>\n",
       "    <tr>\n",
       "      <th>4</th>\n",
       "      <td>4</td>\n",
       "      <td>-0.465638</td>\n",
       "      <td>-0.416413</td>\n",
       "      <td>-0.477227</td>\n",
       "      <td>0.223520</td>\n",
       "      <td>-0.340518</td>\n",
       "      <td>0.928554</td>\n",
       "      <td>-0.144336</td>\n",
       "      <td>0.788260</td>\n",
       "    </tr>\n",
       "    <tr>\n",
       "      <th>...</th>\n",
       "      <td>...</td>\n",
       "      <td>...</td>\n",
       "      <td>...</td>\n",
       "      <td>...</td>\n",
       "      <td>...</td>\n",
       "      <td>...</td>\n",
       "      <td>...</td>\n",
       "      <td>...</td>\n",
       "      <td>...</td>\n",
       "    </tr>\n",
       "    <tr>\n",
       "      <th>651</th>\n",
       "      <td>651</td>\n",
       "      <td>2.009327</td>\n",
       "      <td>0.854007</td>\n",
       "      <td>-0.804269</td>\n",
       "      <td>0.201826</td>\n",
       "      <td>1.122180</td>\n",
       "      <td>1.402581</td>\n",
       "      <td>-0.062715</td>\n",
       "      <td>0.285457</td>\n",
       "    </tr>\n",
       "    <tr>\n",
       "      <th>652</th>\n",
       "      <td>652</td>\n",
       "      <td>-0.151925</td>\n",
       "      <td>1.074396</td>\n",
       "      <td>0.058776</td>\n",
       "      <td>-0.901588</td>\n",
       "      <td>0.864593</td>\n",
       "      <td>0.579435</td>\n",
       "      <td>1.584467</td>\n",
       "      <td>1.227598</td>\n",
       "    </tr>\n",
       "    <tr>\n",
       "      <th>653</th>\n",
       "      <td>653</td>\n",
       "      <td>0.253970</td>\n",
       "      <td>0.652421</td>\n",
       "      <td>-0.297745</td>\n",
       "      <td>-1.554892</td>\n",
       "      <td>0.833683</td>\n",
       "      <td>0.063462</td>\n",
       "      <td>-0.578190</td>\n",
       "      <td>-0.152566</td>\n",
       "    </tr>\n",
       "    <tr>\n",
       "      <th>654</th>\n",
       "      <td>654</td>\n",
       "      <td>-0.837740</td>\n",
       "      <td>-0.349484</td>\n",
       "      <td>2.490852</td>\n",
       "      <td>-1.716377</td>\n",
       "      <td>-1.168487</td>\n",
       "      <td>0.320976</td>\n",
       "      <td>-0.426107</td>\n",
       "      <td>1.986511</td>\n",
       "    </tr>\n",
       "    <tr>\n",
       "      <th>655</th>\n",
       "      <td>655</td>\n",
       "      <td>-0.004751</td>\n",
       "      <td>0.739991</td>\n",
       "      <td>0.686993</td>\n",
       "      <td>0.548097</td>\n",
       "      <td>-0.061063</td>\n",
       "      <td>0.998789</td>\n",
       "      <td>1.293281</td>\n",
       "      <td>-0.501061</td>\n",
       "    </tr>\n",
       "  </tbody>\n",
       "</table>\n",
       "<p>3276 rows × 9 columns</p>\n",
       "</div>"
      ],
      "text/plain": [
       "     Unnamed: 0        ph  Hardness    Solids  Chloramines  Conductivity  \\\n",
       "0             0 -0.317377  0.202046 -0.554634    -0.666527     -0.199296   \n",
       "1             1 -0.275606 -0.080066  1.368736     1.743813      0.882586   \n",
       "2             2 -0.172103  0.283021 -0.423990    -0.248791      0.838486   \n",
       "3             3 -0.004751 -0.397879 -1.063086     1.681607      0.690172   \n",
       "4             4 -0.465638 -0.416413 -0.477227     0.223520     -0.340518   \n",
       "..          ...       ...       ...       ...          ...           ...   \n",
       "651         651  2.009327  0.854007 -0.804269     0.201826      1.122180   \n",
       "652         652 -0.151925  1.074396  0.058776    -0.901588      0.864593   \n",
       "653         653  0.253970  0.652421 -0.297745    -1.554892      0.833683   \n",
       "654         654 -0.837740 -0.349484  2.490852    -1.716377     -1.168487   \n",
       "655         655 -0.004751  0.739991  0.686993     0.548097     -0.061063   \n",
       "\n",
       "     Organic_carbon  Trihalomethanes  Turbidity  \n",
       "0          0.506221        -0.084315  -1.341104  \n",
       "1         -1.654207         0.019075   0.090829  \n",
       "2         -0.134860         0.274997   1.274183  \n",
       "3         -0.286851        -1.230971  -0.923584  \n",
       "4          0.928554        -0.144336   0.788260  \n",
       "..              ...              ...        ...  \n",
       "651        1.402581        -0.062715   0.285457  \n",
       "652        0.579435         1.584467   1.227598  \n",
       "653        0.063462        -0.578190  -0.152566  \n",
       "654        0.320976        -0.426107   1.986511  \n",
       "655        0.998789         1.293281  -0.501061  \n",
       "\n",
       "[3276 rows x 9 columns]"
      ]
     },
     "execution_count": 79,
     "metadata": {},
     "output_type": "execute_result"
    }
   ],
   "source": [
    "X_total = pd.concat([X_train, X_test])\n",
    "X_total"
   ]
  },
  {
   "cell_type": "code",
   "execution_count": 90,
   "metadata": {},
   "outputs": [
    {
     "name": "stderr",
     "output_type": "stream",
     "text": [
      "/home/brain/.local/lib/python3.10/site-packages/sklearn/manifold/_t_sne.py:800: FutureWarning: The default initialization in TSNE will change from 'random' to 'pca' in 1.2.\n",
      "  warnings.warn(\n",
      "/home/brain/.local/lib/python3.10/site-packages/sklearn/manifold/_t_sne.py:810: FutureWarning: The default learning rate in TSNE will change from 200.0 to 'auto' in 1.2.\n",
      "  warnings.warn(\n",
      "/home/brain/.local/lib/python3.10/site-packages/sklearn/manifold/_t_sne.py:800: FutureWarning: The default initialization in TSNE will change from 'random' to 'pca' in 1.2.\n",
      "  warnings.warn(\n",
      "/home/brain/.local/lib/python3.10/site-packages/sklearn/manifold/_t_sne.py:810: FutureWarning: The default learning rate in TSNE will change from 200.0 to 'auto' in 1.2.\n",
      "  warnings.warn(\n"
     ]
    }
   ],
   "source": [
    "tsne = TSNE()\n",
    "X_train_tsne = tsne.fit_transform(X = X_train)\n",
    "X_test_tsne = tsne.fit_transform(X = X_total)\n",
    "\n"
   ]
  },
  {
   "cell_type": "markdown",
   "metadata": {},
   "source": [
    "# MODELS TRAINING"
   ]
  },
  {
   "cell_type": "markdown",
   "metadata": {},
   "source": [
    "#### KNN"
   ]
  },
  {
   "cell_type": "code",
   "execution_count": 75,
   "metadata": {},
   "outputs": [
    {
     "name": "stdout",
     "output_type": "stream",
     "text": [
      "              precision    recall  f1-score   support\n",
      "\n",
      "           0       0.64      0.75      0.69       412\n",
      "           1       0.41      0.30      0.35       244\n",
      "\n",
      "    accuracy                           0.58       656\n",
      "   macro avg       0.53      0.52      0.52       656\n",
      "weighted avg       0.56      0.58      0.56       656\n",
      "\n"
     ]
    }
   ],
   "source": [
    "knn = KNeighborsClassifier(n_neighbors= 5)\n",
    "knn.fit(X=X_train, y=y_train)\n",
    "knn_predict = knn.predict(X=X_test)\n",
    "print(classification_report(y_test, knn_predict))"
   ]
  },
  {
   "cell_type": "markdown",
   "metadata": {},
   "source": [
    "### KNN COM PCA \n",
    "\n"
   ]
  },
  {
   "cell_type": "code",
   "execution_count": 66,
   "metadata": {},
   "outputs": [
    {
     "name": "stdout",
     "output_type": "stream",
     "text": [
      "              precision    recall  f1-score   support\n",
      "\n",
      "           0       0.65      0.73      0.69       412\n",
      "           1       0.41      0.32      0.36       244\n",
      "\n",
      "    accuracy                           0.58       656\n",
      "   macro avg       0.53      0.53      0.52       656\n",
      "weighted avg       0.56      0.58      0.57       656\n",
      "\n"
     ]
    }
   ],
   "source": [
    "knn = KNeighborsClassifier(n_neighbors= 5)\n",
    "knn.fit(X=X_train_pca, y=y_train)\n",
    "knn_predict = knn.predict(X=X_test_pca)\n",
    "print(classification_report(y_test, knn_predict))"
   ]
  },
  {
   "cell_type": "markdown",
   "metadata": {},
   "source": [
    "### KNN COM TSNE"
   ]
  },
  {
   "cell_type": "code",
   "execution_count": 97,
   "metadata": {},
   "outputs": [
    {
     "name": "stdout",
     "output_type": "stream",
     "text": [
      "              precision    recall  f1-score   support\n",
      "\n",
      "           0       0.64      0.71      0.67       412\n",
      "           1       0.40      0.33      0.36       244\n",
      "\n",
      "    accuracy                           0.57       656\n",
      "   macro avg       0.52      0.52      0.52       656\n",
      "weighted avg       0.55      0.57      0.56       656\n",
      "\n"
     ]
    }
   ],
   "source": [
    "knn = KNeighborsClassifier(n_neighbors= 5)\n",
    "knn.fit(X=X_train_tsne, y=y_train)\n",
    "knn_predict = knn.predict(X = X_test_tsne[X_train.shape[0]:])\n",
    "print(classification_report(y_test, knn_predict))"
   ]
  },
  {
   "cell_type": "markdown",
   "metadata": {},
   "source": [
    "### SVM"
   ]
  },
  {
   "cell_type": "code",
   "execution_count": 12,
   "metadata": {},
   "outputs": [
    {
     "name": "stdout",
     "output_type": "stream",
     "text": [
      "              precision    recall  f1-score   support\n",
      "\n",
      "           0       0.63      1.00      0.77       412\n",
      "           1       0.00      0.00      0.00       244\n",
      "\n",
      "    accuracy                           0.63       656\n",
      "   macro avg       0.31      0.50      0.39       656\n",
      "weighted avg       0.39      0.63      0.48       656\n",
      "\n"
     ]
    },
    {
     "name": "stderr",
     "output_type": "stream",
     "text": [
      "/home/brain/.local/lib/python3.10/site-packages/sklearn/metrics/_classification.py:1334: UndefinedMetricWarning: Precision and F-score are ill-defined and being set to 0.0 in labels with no predicted samples. Use `zero_division` parameter to control this behavior.\n",
      "  _warn_prf(average, modifier, msg_start, len(result))\n",
      "/home/brain/.local/lib/python3.10/site-packages/sklearn/metrics/_classification.py:1334: UndefinedMetricWarning: Precision and F-score are ill-defined and being set to 0.0 in labels with no predicted samples. Use `zero_division` parameter to control this behavior.\n",
      "  _warn_prf(average, modifier, msg_start, len(result))\n",
      "/home/brain/.local/lib/python3.10/site-packages/sklearn/metrics/_classification.py:1334: UndefinedMetricWarning: Precision and F-score are ill-defined and being set to 0.0 in labels with no predicted samples. Use `zero_division` parameter to control this behavior.\n",
      "  _warn_prf(average, modifier, msg_start, len(result))\n"
     ]
    }
   ],
   "source": [
    "clf = SVC()\n",
    "clf.fit(X = X_train, y= y_train)\n",
    "clf_predict = clf.predict(X_test)\n",
    "print(classification_report(y_test, clf_predict))\n"
   ]
  },
  {
   "cell_type": "markdown",
   "metadata": {},
   "source": [
    "## SVM COM OUTRO KERNEL "
   ]
  },
  {
   "cell_type": "code",
   "execution_count": 19,
   "metadata": {},
   "outputs": [
    {
     "name": "stdout",
     "output_type": "stream",
     "text": [
      "              precision    recall  f1-score   support\n",
      "\n",
      "           0       0.62      0.69      0.65       412\n",
      "           1       0.36      0.30      0.32       244\n",
      "\n",
      "    accuracy                           0.54       656\n",
      "   macro avg       0.49      0.49      0.49       656\n",
      "weighted avg       0.52      0.54      0.53       656\n",
      "\n"
     ]
    }
   ],
   "source": [
    "clf = SVC(kernel= \"sigmoid\")\n",
    "clf.fit(X = X_train, y= y_train)\n",
    "clf_predict = clf.predict(X_test)\n",
    "print(classification_report(y_test, clf_predict))"
   ]
  },
  {
   "cell_type": "markdown",
   "metadata": {},
   "source": [
    "### SVM COM PCA"
   ]
  },
  {
   "cell_type": "code",
   "execution_count": 67,
   "metadata": {},
   "outputs": [
    {
     "name": "stdout",
     "output_type": "stream",
     "text": [
      "              precision    recall  f1-score   support\n",
      "\n",
      "           0       0.63      1.00      0.77       412\n",
      "           1       0.00      0.00      0.00       244\n",
      "\n",
      "    accuracy                           0.63       656\n",
      "   macro avg       0.31      0.50      0.39       656\n",
      "weighted avg       0.39      0.63      0.48       656\n",
      "\n"
     ]
    },
    {
     "name": "stderr",
     "output_type": "stream",
     "text": [
      "/home/brain/.local/lib/python3.10/site-packages/sklearn/metrics/_classification.py:1334: UndefinedMetricWarning: Precision and F-score are ill-defined and being set to 0.0 in labels with no predicted samples. Use `zero_division` parameter to control this behavior.\n",
      "  _warn_prf(average, modifier, msg_start, len(result))\n",
      "/home/brain/.local/lib/python3.10/site-packages/sklearn/metrics/_classification.py:1334: UndefinedMetricWarning: Precision and F-score are ill-defined and being set to 0.0 in labels with no predicted samples. Use `zero_division` parameter to control this behavior.\n",
      "  _warn_prf(average, modifier, msg_start, len(result))\n",
      "/home/brain/.local/lib/python3.10/site-packages/sklearn/metrics/_classification.py:1334: UndefinedMetricWarning: Precision and F-score are ill-defined and being set to 0.0 in labels with no predicted samples. Use `zero_division` parameter to control this behavior.\n",
      "  _warn_prf(average, modifier, msg_start, len(result))\n"
     ]
    }
   ],
   "source": [
    "clf = SVC()\n",
    "clf.fit(X = X_train_pca, y= y_train)\n",
    "clf_predict = clf.predict(X_test_pca)\n",
    "print(classification_report(y_test, clf_predict))\n"
   ]
  },
  {
   "cell_type": "markdown",
   "metadata": {},
   "source": [
    "### SVM COM PCA E OUTRO KERNEL"
   ]
  },
  {
   "cell_type": "code",
   "execution_count": 68,
   "metadata": {},
   "outputs": [
    {
     "name": "stdout",
     "output_type": "stream",
     "text": [
      "              precision    recall  f1-score   support\n",
      "\n",
      "           0       0.63      0.45      0.52       412\n",
      "           1       0.37      0.56      0.45       244\n",
      "\n",
      "    accuracy                           0.49       656\n",
      "   macro avg       0.50      0.50      0.49       656\n",
      "weighted avg       0.54      0.49      0.50       656\n",
      "\n"
     ]
    }
   ],
   "source": [
    "clf = SVC(kernel = \"sigmoid\")\n",
    "clf.fit(X = X_train_pca, y= y_train)\n",
    "clf_predict = clf.predict(X_test_pca)\n",
    "print(classification_report(y_test, clf_predict))\n"
   ]
  },
  {
   "cell_type": "markdown",
   "metadata": {},
   "source": [
    "### RANDOM FOREST\n"
   ]
  },
  {
   "cell_type": "code",
   "execution_count": 72,
   "metadata": {},
   "outputs": [
    {
     "name": "stdout",
     "output_type": "stream",
     "text": [
      "              precision    recall  f1-score   support\n",
      "\n",
      "           0       0.66      0.85      0.74       412\n",
      "           1       0.51      0.26      0.35       244\n",
      "\n",
      "    accuracy                           0.63       656\n",
      "   macro avg       0.59      0.56      0.55       656\n",
      "weighted avg       0.61      0.63      0.60       656\n",
      "\n"
     ]
    }
   ],
   "source": [
    "random_forest = RandomForestClassifier(random_state=2022)\n",
    "random_forest.fit(X= X_train, y= y_train)\n",
    "rfc_predict = random_forest.predict(X= X_test)\n",
    "print(classification_report(y_test,rfc_predict))"
   ]
  },
  {
   "cell_type": "markdown",
   "metadata": {},
   "source": [
    "### RANDOM FOREST COM PCA"
   ]
  },
  {
   "cell_type": "code",
   "execution_count": 70,
   "metadata": {},
   "outputs": [
    {
     "name": "stdout",
     "output_type": "stream",
     "text": [
      "              precision    recall  f1-score   support\n",
      "\n",
      "           0       0.65      0.64      0.64       412\n",
      "           1       0.40      0.41      0.41       244\n",
      "\n",
      "    accuracy                           0.55       656\n",
      "   macro avg       0.52      0.52      0.52       656\n",
      "weighted avg       0.56      0.55      0.55       656\n",
      "\n"
     ]
    }
   ],
   "source": [
    "random_forest = RandomForestClassifier(random_state=2022)\n",
    "random_forest.fit(X= X_train_pca, y= y_train)\n",
    "rfc_predict = random_forest.predict(X= X_test_pca)\n",
    "print(classification_report(y_test,rfc_predict))"
   ]
  }
 ],
 "metadata": {
  "kernelspec": {
   "display_name": "Python 3.10.6 64-bit",
   "language": "python",
   "name": "python3"
  },
  "language_info": {
   "codemirror_mode": {
    "name": "ipython",
    "version": 3
   },
   "file_extension": ".py",
   "mimetype": "text/x-python",
   "name": "python",
   "nbconvert_exporter": "python",
   "pygments_lexer": "ipython3",
   "version": "3.10.6"
  },
  "orig_nbformat": 4,
  "vscode": {
   "interpreter": {
    "hash": "916dbcbb3f70747c44a77c7bcd40155683ae19c65e1c03b4aa3499c5328201f1"
   }
  }
 },
 "nbformat": 4,
 "nbformat_minor": 2
}
